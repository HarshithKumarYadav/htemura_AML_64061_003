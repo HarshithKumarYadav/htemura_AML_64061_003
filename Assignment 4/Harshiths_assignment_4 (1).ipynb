{
  "nbformat": 4,
  "nbformat_minor": 0,
  "metadata": {
    "colab": {
      "provenance": [],
      "gpuClass": "premium",
      "gpuType": "L4"
    },
    "kernelspec": {
      "name": "python3",
      "display_name": "Python 3"
    },
    "language_info": {
      "name": "python"
    },
    "accelerator": "GPU"
  },
  "cells": [
    {
      "cell_type": "markdown",
      "metadata": {
        "id": "view-in-github"
      },
      "source": [
        "<a href=\"https://colab.research.google.com/github/Chaitanyareddynv/Cnarredd_64061/blob/main/assignment_4.ipynb\" target=\"_parent\"><img src=\"https://colab.research.google.com/assets/colab-badge.svg\" alt=\"Open In Colab\"/></a>"
      ]
    },
    {
      "cell_type": "markdown",
      "source": [
        "**Downloading the data**\n",
        "\n"
      ],
      "metadata": {
        "id": "SfEf_M_LmW-i"
      }
    },
    {
      "cell_type": "code",
      "source": [
        "!curl -O https://ai.stanford.edu/~amaas/data/sentiment/aclImdb_v1.tar.gz\n",
        "!tar -xf aclImdb_v1.tar.gz\n",
        "!rm -r aclImdb/train/unsup"
      ],
      "metadata": {
        "colab": {
          "base_uri": "https://localhost:8080/"
        },
        "id": "OK_YTOXxSkYp",
        "outputId": "5e86d3dc-7ae4-4156-bf4b-c277091522ca"
      },
      "execution_count": null,
      "outputs": [
        {
          "output_type": "stream",
          "name": "stdout",
          "text": [
            "  % Total    % Received % Xferd  Average Speed   Time    Time     Time  Current\n",
            "                                 Dload  Upload   Total   Spent    Left  Speed\n",
            "100 80.2M  100 80.2M    0     0  45.3M      0  0:00:01  0:00:01 --:--:-- 45.3M\n"
          ]
        }
      ]
    },
    {
      "cell_type": "markdown",
      "source": [
        "Preparation the data"
      ],
      "metadata": {
        "id": "FxFa4ubQmcPT"
      }
    },
    {
      "cell_type": "code",
      "source": [
        "import os, pathlib, shutil, random\n",
        "from tensorflow import keras\n",
        "batch_size = 32\n",
        "base_dir7= pathlib.Path(\"/content/aclImdb\")\n",
        "val_dir7 = base_dir7/ \"val\"\n",
        "train_dir7 = base_dir7 / \"train\"\n",
        "for category in (\"neg\", \"pos\"):\n",
        "    os.makedirs(val_dir7 / category, exist_ok=True )\n",
        "\n",
        "    files = os.listdir(train_dir7 / category)\n",
        "    random.Random(1337).shuffle(files)\n",
        "    num_val_samples = int(0.2 * len(files))\n",
        "    val_files = files[-num_val_samples:]\n",
        "    for fname in val_files:\n",
        "        shutil.move(train_dir7 / category / fname,\n",
        "                    val_dir7 / category / fname)\n",
        "\n",
        "train_ds = keras.utils.text_dataset_from_directory(\n",
        "    \"aclImdb/train\", batch_size=batch_size\n",
        ").take(150)\n",
        "\n",
        "val_ds = keras.utils.text_dataset_from_directory(\n",
        "    \"/content/aclImdb/val\", batch_size=batch_size\n",
        ")\n",
        "test_ds = keras.utils.text_dataset_from_directory(\n",
        "    \"aclImdb/test\", batch_size=batch_size\n",
        ")\n",
        "text_only_train_ds = train_ds.map(lambda x, y: x)\n"
      ],
      "metadata": {
        "id": "HCTPULw4DkWz",
        "colab": {
          "base_uri": "https://localhost:8080/"
        },
        "outputId": "48dd8d92-1ce0-4588-cf00-6b1630e663a1"
      },
      "execution_count": null,
      "outputs": [
        {
          "output_type": "stream",
          "name": "stdout",
          "text": [
            "Found 16000 files belonging to 2 classes.\n",
            "Found 9000 files belonging to 2 classes.\n",
            "Found 25000 files belonging to 2 classes.\n"
          ]
        }
      ]
    },
    {
      "cell_type": "markdown",
      "source": [
        "Setting up datasets for integer sequences"
      ],
      "metadata": {
        "id": "08v9H-1dmf2d"
      }
    },
    {
      "cell_type": "code",
      "source": [
        "from tensorflow.keras import layers\n",
        "\n",
        "max_length = 150\n",
        "max_tokens = 20000\n",
        "text_vectorization = layers.TextVectorization(\n",
        "    max_tokens=max_tokens,\n",
        "    output_mode=\"int\",\n",
        "    output_sequence_length=max_length,\n",
        ")\n",
        "text_vectorization.adapt(text_only_train_ds)\n",
        "\n",
        "int_train_ds = train_ds.map(\n",
        "    lambda x, y: (text_vectorization(x), y),\n",
        "    num_parallel_calls=4)\n",
        "int_val_ds = val_ds.map(\n",
        "    lambda x, y: (text_vectorization(x), y),\n",
        "    num_parallel_calls=4)\n",
        "int_test_ds = test_ds.map(\n",
        "    lambda x, y: (text_vectorization(x), y),\n",
        "    num_parallel_calls=4)"
      ],
      "metadata": {
        "id": "Qwdim3LtDkh_"
      },
      "execution_count": null,
      "outputs": []
    },
    {
      "cell_type": "markdown",
      "source": [
        "**A sequence model constructed from one-hot encoded vector sequences.**"
      ],
      "metadata": {
        "id": "UeIC--rVmkNw"
      }
    },
    {
      "cell_type": "code",
      "source": [
        "import tensorflow as tf\n",
        "inputs = keras.Input(shape=(None,), dtype=\"int64\")\n",
        "embedded = tf.one_hot(inputs, depth=max_tokens)\n",
        "x = layers.Bidirectional(layers.LSTM(32))(embedded)\n",
        "x = layers.Dropout(0.5)(x)\n",
        "outputs = layers.Dense(1, activation=\"sigmoid\")(x)\n",
        "model = keras.Model(inputs, outputs)\n",
        "model.compile(optimizer=\"rmsprop\",\n",
        "              loss=\"binary_crossentropy\",\n",
        "              metrics=[\"accuracy\"])\n",
        "model.summary()"
      ],
      "metadata": {
        "id": "xHPKcp4TDkqm",
        "colab": {
          "base_uri": "https://localhost:8080/"
        },
        "outputId": "3019b224-a836-46c5-dc31-69b15ea08e76"
      },
      "execution_count": null,
      "outputs": [
        {
          "output_type": "stream",
          "name": "stdout",
          "text": [
            "Model: \"model\"\n",
            "_________________________________________________________________\n",
            " Layer (type)                Output Shape              Param #   \n",
            "=================================================================\n",
            " input_1 (InputLayer)        [(None, None)]            0         \n",
            "                                                                 \n",
            " tf.one_hot (TFOpLambda)     (None, None, 20000)       0         \n",
            "                                                                 \n",
            " bidirectional (Bidirection  (None, 64)                5128448   \n",
            " al)                                                             \n",
            "                                                                 \n",
            " dropout (Dropout)           (None, 64)                0         \n",
            "                                                                 \n",
            " dense (Dense)               (None, 1)                 65        \n",
            "                                                                 \n",
            "=================================================================\n",
            "Total params: 5128513 (19.56 MB)\n",
            "Trainable params: 5128513 (19.56 MB)\n",
            "Non-trainable params: 0 (0.00 Byte)\n",
            "_________________________________________________________________\n"
          ]
        }
      ]
    },
    {
      "cell_type": "markdown",
      "source": [
        "Training the first basic sequence model."
      ],
      "metadata": {
        "id": "pGMmF45lmr2m"
      }
    },
    {
      "cell_type": "code",
      "source": [
        "callbacks = [\n",
        "    keras.callbacks.ModelCheckpoint(\"one_hot_bidir_lstm.x\",\n",
        "                                    save_best_only=True)\n",
        "]\n",
        "model.fit(int_train_ds, validation_data=int_val_ds, epochs=10, callbacks=callbacks)\n",
        "model = keras.models.load_model(\"one_hot_bidir_lstm.x\")\n",
        "print(f\"Test acc: {model.evaluate(int_test_ds)[1]:.3f}\")"
      ],
      "metadata": {
        "id": "haVNKQlBDkuv",
        "colab": {
          "base_uri": "https://localhost:8080/"
        },
        "outputId": "6825949d-f12a-4862-92a1-5ad80b782596"
      },
      "execution_count": null,
      "outputs": [
        {
          "output_type": "stream",
          "name": "stdout",
          "text": [
            "Epoch 1/10\n",
            "150/150 [==============================] - 26s 140ms/step - loss: 0.6894 - accuracy: 0.5346 - val_loss: 0.6564 - val_accuracy: 0.6693\n",
            "Epoch 2/10\n",
            "150/150 [==============================] - 20s 136ms/step - loss: 0.5601 - accuracy: 0.7387 - val_loss: 0.5445 - val_accuracy: 0.7703\n",
            "Epoch 3/10\n",
            "150/150 [==============================] - 20s 131ms/step - loss: 0.4146 - accuracy: 0.8390 - val_loss: 0.4411 - val_accuracy: 0.8080\n",
            "Epoch 4/10\n",
            "150/150 [==============================] - 20s 136ms/step - loss: 0.3209 - accuracy: 0.8879 - val_loss: 0.4331 - val_accuracy: 0.8206\n",
            "Epoch 5/10\n",
            "150/150 [==============================] - 11s 74ms/step - loss: 0.2523 - accuracy: 0.9165 - val_loss: 0.5965 - val_accuracy: 0.7687\n",
            "Epoch 6/10\n",
            "150/150 [==============================] - 11s 75ms/step - loss: 0.2084 - accuracy: 0.9312 - val_loss: 0.5768 - val_accuracy: 0.8151\n",
            "Epoch 7/10\n",
            "150/150 [==============================] - 11s 74ms/step - loss: 0.1669 - accuracy: 0.9504 - val_loss: 0.5709 - val_accuracy: 0.8210\n",
            "Epoch 8/10\n",
            "150/150 [==============================] - 11s 74ms/step - loss: 0.1464 - accuracy: 0.9590 - val_loss: 0.5028 - val_accuracy: 0.8256\n",
            "Epoch 9/10\n",
            "150/150 [==============================] - 11s 74ms/step - loss: 0.1176 - accuracy: 0.9677 - val_loss: 0.4716 - val_accuracy: 0.8207\n",
            "Epoch 10/10\n",
            "150/150 [==============================] - 11s 74ms/step - loss: 0.0995 - accuracy: 0.9733 - val_loss: 0.6356 - val_accuracy: 0.7992\n",
            "782/782 [==============================] - 18s 22ms/step - loss: 0.4460 - accuracy: 0.8139\n",
            "Test acc: 0.814\n"
          ]
        }
      ]
    },
    {
      "cell_type": "markdown",
      "source": [
        "**Learning word embeddings using the Embedding layer.**\n",
        "\n",
        "Instantiating an Embedding layer"
      ],
      "metadata": {
        "id": "5PkSSfcHmtTS"
      }
    },
    {
      "cell_type": "code",
      "source": [
        "embedding_layer = layers.Embedding(input_dim=max_tokens, output_dim=256)"
      ],
      "metadata": {
        "id": "gwqOwLSKDkyH"
      },
      "execution_count": null,
      "outputs": []
    },
    {
      "cell_type": "markdown",
      "source": [
        "Model that employs an embedding layer trained from scratch."
      ],
      "metadata": {
        "id": "BwlrpDgxm876"
      }
    },
    {
      "cell_type": "code",
      "source": [
        "inputs = keras.Input(shape=(None,), dtype=\"int64\")\n",
        "embedded = layers.Embedding(input_dim=max_tokens, output_dim=256)(inputs)\n",
        "x = layers.Bidirectional(layers.LSTM(32))(embedded)\n",
        "x = layers.Dropout(0.5)(x)\n",
        "outputs = layers.Dense(1, activation=\"sigmoid\")(x)\n",
        "model = keras.Model(inputs, outputs)\n",
        "model.compile(optimizer=\"rmsprop\",\n",
        "              loss=\"binary_crossentropy\",\n",
        "              metrics=[\"accuracy\"])\n",
        "model.summary()\n",
        "\n",
        "callbacks = [\n",
        "    keras.callbacks.ModelCheckpoint(\"embeddings_bidir_gru.x\",\n",
        "                                    save_best_only=True)\n",
        "]\n",
        "model.fit(int_train_ds, validation_data=int_val_ds, epochs=10, callbacks=callbacks)\n",
        "model = keras.models.load_model(\"embeddings_bidir_gru.x\")\n",
        "print(f\"Test acc: {model.evaluate(int_test_ds)[1]:.3f}\")"
      ],
      "metadata": {
        "id": "terl2LwbDky9",
        "colab": {
          "base_uri": "https://localhost:8080/"
        },
        "outputId": "81cd8bc9-1288-45e1-c709-7ded2fd783d5"
      },
      "execution_count": null,
      "outputs": [
        {
          "output_type": "stream",
          "name": "stdout",
          "text": [
            "Model: \"model_1\"\n",
            "_________________________________________________________________\n",
            " Layer (type)                Output Shape              Param #   \n",
            "=================================================================\n",
            " input_2 (InputLayer)        [(None, None)]            0         \n",
            "                                                                 \n",
            " embedding_1 (Embedding)     (None, None, 256)         5120000   \n",
            "                                                                 \n",
            " bidirectional_1 (Bidirecti  (None, 64)                73984     \n",
            " onal)                                                           \n",
            "                                                                 \n",
            " dropout_1 (Dropout)         (None, 64)                0         \n",
            "                                                                 \n",
            " dense_1 (Dense)             (None, 1)                 65        \n",
            "                                                                 \n",
            "=================================================================\n",
            "Total params: 5194049 (19.81 MB)\n",
            "Trainable params: 5194049 (19.81 MB)\n",
            "Non-trainable params: 0 (0.00 Byte)\n",
            "_________________________________________________________________\n",
            "Epoch 1/10\n",
            "150/150 [==============================] - 24s 133ms/step - loss: 0.6382 - accuracy: 0.6229 - val_loss: 0.5631 - val_accuracy: 0.7226\n",
            "Epoch 2/10\n",
            "150/150 [==============================] - 17s 111ms/step - loss: 0.4554 - accuracy: 0.8069 - val_loss: 0.4652 - val_accuracy: 0.7857\n",
            "Epoch 3/10\n",
            "150/150 [==============================] - 6s 42ms/step - loss: 0.3340 - accuracy: 0.8710 - val_loss: 0.4702 - val_accuracy: 0.7904\n",
            "Epoch 4/10\n",
            "150/150 [==============================] - 5s 35ms/step - loss: 0.2603 - accuracy: 0.9062 - val_loss: 0.7071 - val_accuracy: 0.7791\n",
            "Epoch 5/10\n",
            "150/150 [==============================] - 5s 34ms/step - loss: 0.1862 - accuracy: 0.9360 - val_loss: 0.5505 - val_accuracy: 0.8053\n",
            "Epoch 6/10\n",
            "150/150 [==============================] - 5s 30ms/step - loss: 0.1455 - accuracy: 0.9513 - val_loss: 0.5605 - val_accuracy: 0.7911\n",
            "Epoch 7/10\n",
            "150/150 [==============================] - 5s 30ms/step - loss: 0.0955 - accuracy: 0.9721 - val_loss: 0.5810 - val_accuracy: 0.8016\n",
            "Epoch 8/10\n",
            "150/150 [==============================] - 4s 29ms/step - loss: 0.0742 - accuracy: 0.9790 - val_loss: 0.5796 - val_accuracy: 0.7971\n",
            "Epoch 9/10\n",
            "150/150 [==============================] - 4s 29ms/step - loss: 0.0638 - accuracy: 0.9810 - val_loss: 0.6645 - val_accuracy: 0.7838\n",
            "Epoch 10/10\n",
            "150/150 [==============================] - 4s 28ms/step - loss: 0.0461 - accuracy: 0.9867 - val_loss: 0.7265 - val_accuracy: 0.7994\n",
            "782/782 [==============================] - 6s 7ms/step - loss: 0.4697 - accuracy: 0.7822\n",
            "Test acc: 0.782\n"
          ]
        }
      ]
    },
    {
      "cell_type": "markdown",
      "source": [
        "Understanding padding and masking\n",
        "\n",
        "Using an embedded layer with masking enabled."
      ],
      "metadata": {
        "id": "3MP9fVyBnBYJ"
      }
    },
    {
      "cell_type": "code",
      "source": [
        "inputs = keras.Input(shape=(None,), dtype=\"int64\")\n",
        "embedded = layers.Embedding(\n",
        "    input_dim=max_tokens, output_dim=256, mask_zero=True)(inputs)\n",
        "x = layers.Bidirectional(layers.LSTM(32))(embedded)\n",
        "x = layers.Dropout(0.5)(x)\n",
        "outputs = layers.Dense(1, activation=\"sigmoid\")(x)\n",
        "model = keras.Model(inputs, outputs)\n",
        "model.compile(optimizer=\"rmsprop\",\n",
        "              loss=\"binary_crossentropy\",\n",
        "              metrics=[\"accuracy\"])\n",
        "model.summary()\n",
        "\n",
        "callbacks = [\n",
        "    keras.callbacks.ModelCheckpoint(\"embeddings_bidir_gru_with_masking.x\",\n",
        "                                    save_best_only=True)\n",
        "]\n",
        "model.fit(int_train_ds, validation_data=int_val_ds, epochs=10, callbacks=callbacks)\n",
        "model = keras.models.load_model(\"embeddings_bidir_gru_with_masking.x\")\n",
        "print(f\"Test acc: {model.evaluate(int_test_ds)[1]:.3f}\")"
      ],
      "metadata": {
        "id": "IRyFMQ36Dk2I",
        "colab": {
          "base_uri": "https://localhost:8080/"
        },
        "outputId": "8c8439af-ab1f-4f6b-e197-a03a21a2338b"
      },
      "execution_count": null,
      "outputs": [
        {
          "output_type": "stream",
          "name": "stdout",
          "text": [
            "Model: \"model_2\"\n",
            "_________________________________________________________________\n",
            " Layer (type)                Output Shape              Param #   \n",
            "=================================================================\n",
            " input_3 (InputLayer)        [(None, None)]            0         \n",
            "                                                                 \n",
            " embedding_2 (Embedding)     (None, None, 256)         5120000   \n",
            "                                                                 \n",
            " bidirectional_2 (Bidirecti  (None, 64)                73984     \n",
            " onal)                                                           \n",
            "                                                                 \n",
            " dropout_2 (Dropout)         (None, 64)                0         \n",
            "                                                                 \n",
            " dense_2 (Dense)             (None, 1)                 65        \n",
            "                                                                 \n",
            "=================================================================\n",
            "Total params: 5194049 (19.81 MB)\n",
            "Trainable params: 5194049 (19.81 MB)\n",
            "Non-trainable params: 0 (0.00 Byte)\n",
            "_________________________________________________________________\n",
            "Epoch 1/10\n",
            "150/150 [==============================] - 38s 198ms/step - loss: 0.6663 - accuracy: 0.5723 - val_loss: 0.5623 - val_accuracy: 0.7166\n",
            "Epoch 2/10\n",
            "150/150 [==============================] - 24s 161ms/step - loss: 0.4636 - accuracy: 0.7837 - val_loss: 0.4478 - val_accuracy: 0.7951\n",
            "Epoch 3/10\n",
            "150/150 [==============================] - 7s 49ms/step - loss: 0.3145 - accuracy: 0.8696 - val_loss: 0.4504 - val_accuracy: 0.8090\n",
            "Epoch 4/10\n",
            "150/150 [==============================] - 6s 40ms/step - loss: 0.2124 - accuracy: 0.9202 - val_loss: 0.5508 - val_accuracy: 0.8006\n",
            "Epoch 5/10\n",
            "150/150 [==============================] - 22s 146ms/step - loss: 0.1358 - accuracy: 0.9554 - val_loss: 0.4438 - val_accuracy: 0.8151\n",
            "Epoch 6/10\n",
            "150/150 [==============================] - 5s 34ms/step - loss: 0.0910 - accuracy: 0.9727 - val_loss: 0.5008 - val_accuracy: 0.8101\n",
            "Epoch 7/10\n",
            "150/150 [==============================] - 5s 34ms/step - loss: 0.0682 - accuracy: 0.9785 - val_loss: 0.5619 - val_accuracy: 0.8049\n",
            "Epoch 8/10\n",
            "150/150 [==============================] - 5s 35ms/step - loss: 0.0501 - accuracy: 0.9848 - val_loss: 0.9930 - val_accuracy: 0.7514\n",
            "Epoch 9/10\n",
            "150/150 [==============================] - 5s 34ms/step - loss: 0.0351 - accuracy: 0.9900 - val_loss: 0.5735 - val_accuracy: 0.8088\n",
            "Epoch 10/10\n",
            "150/150 [==============================] - 5s 33ms/step - loss: 0.0348 - accuracy: 0.9908 - val_loss: 0.7275 - val_accuracy: 0.7829\n",
            "782/782 [==============================] - 8s 8ms/step - loss: 0.4612 - accuracy: 0.8084\n",
            "Test acc: 0.808\n"
          ]
        }
      ]
    },
    {
      "cell_type": "markdown",
      "source": [
        "***Using Pretrained Word Embeddings***"
      ],
      "metadata": {
        "id": "o86_AagPnInn"
      }
    },
    {
      "cell_type": "code",
      "source": [
        "!wget http://nlp.stanford.edu/data/glove.6B.zip\n",
        "!unzip -q glove.6B.zip"
      ],
      "metadata": {
        "id": "-mN0wzxSDk51",
        "colab": {
          "base_uri": "https://localhost:8080/"
        },
        "outputId": "8362ebcf-43ce-4786-cdc4-f77f3d0181a8"
      },
      "execution_count": null,
      "outputs": [
        {
          "output_type": "stream",
          "name": "stdout",
          "text": [
            "--2024-04-19 02:54:49--  http://nlp.stanford.edu/data/glove.6B.zip\n",
            "Resolving nlp.stanford.edu (nlp.stanford.edu)... 171.64.67.140\n",
            "Connecting to nlp.stanford.edu (nlp.stanford.edu)|171.64.67.140|:80... connected.\n",
            "HTTP request sent, awaiting response... 302 Found\n",
            "Location: https://nlp.stanford.edu/data/glove.6B.zip [following]\n",
            "--2024-04-19 02:54:49--  https://nlp.stanford.edu/data/glove.6B.zip\n",
            "Connecting to nlp.stanford.edu (nlp.stanford.edu)|171.64.67.140|:443... connected.\n",
            "HTTP request sent, awaiting response... 301 Moved Permanently\n",
            "Location: https://downloads.cs.stanford.edu/nlp/data/glove.6B.zip [following]\n",
            "--2024-04-19 02:54:49--  https://downloads.cs.stanford.edu/nlp/data/glove.6B.zip\n",
            "Resolving downloads.cs.stanford.edu (downloads.cs.stanford.edu)... 171.64.64.22\n",
            "Connecting to downloads.cs.stanford.edu (downloads.cs.stanford.edu)|171.64.64.22|:443... connected.\n",
            "HTTP request sent, awaiting response... 200 OK\n",
            "Length: 862182613 (822M) [application/zip]\n",
            "Saving to: ‘glove.6B.zip’\n",
            "\n",
            "glove.6B.zip        100%[===================>] 822.24M  5.02MB/s    in 2m 39s  \n",
            "\n",
            "2024-04-19 02:57:28 (5.19 MB/s) - ‘glove.6B.zip’ saved [862182613/862182613]\n",
            "\n"
          ]
        }
      ]
    },
    {
      "cell_type": "markdown",
      "source": [
        "Parsing the GloVe word-embeddings file"
      ],
      "metadata": {
        "id": "X835rtwDnk6Z"
      }
    },
    {
      "cell_type": "code",
      "source": [
        "import numpy as np\n",
        "path_to_glove_file = \"glove.6B.100d.txt\"\n",
        "\n",
        "embeddings_index = {}\n",
        "with open(path_to_glove_file) as f:\n",
        "    for line in f:\n",
        "        word, coefs = line.split(maxsplit=1)\n",
        "        coefs = np.fromstring(coefs, \"f\", sep=\" \")\n",
        "        embeddings_index[word] = coefs\n",
        "\n",
        "print(f\"Found {len(embeddings_index)} word vectors.\")"
      ],
      "metadata": {
        "id": "MOLlubx2Dk_7",
        "colab": {
          "base_uri": "https://localhost:8080/"
        },
        "outputId": "0d95864b-7acd-4257-f35c-94f5417fe28a"
      },
      "execution_count": null,
      "outputs": [
        {
          "output_type": "stream",
          "name": "stdout",
          "text": [
            "Found 400000 word vectors.\n"
          ]
        }
      ]
    },
    {
      "cell_type": "markdown",
      "source": [
        "Preparing the GloVe word embedding matrix."
      ],
      "metadata": {
        "id": "RRyuVIv_nofQ"
      }
    },
    {
      "cell_type": "code",
      "source": [
        "embedding_dim = 100\n",
        "\n",
        "vocabulary = text_vectorization.get_vocabulary()\n",
        "word_index = dict(zip(vocabulary, range(len(vocabulary))))\n",
        "\n",
        "embedding_matrix = np.zeros((max_tokens, embedding_dim))\n",
        "for word, i in word_index.items():\n",
        "    if i < max_tokens:\n",
        "        embedding_vector = embeddings_index.get(word)\n",
        "    if embedding_vector is not None:\n",
        "        embedding_matrix[i] = embedding_vector"
      ],
      "metadata": {
        "id": "qiz6_gW3EaO0"
      },
      "execution_count": null,
      "outputs": []
    },
    {
      "cell_type": "code",
      "source": [
        "embedding_layer = layers.Embedding(\n",
        "    max_tokens,\n",
        "    embedding_dim,\n",
        "    embeddings_initializer=keras.initializers.Constant(embedding_matrix),\n",
        "    trainable=False,\n",
        "    mask_zero=True,\n",
        ")"
      ],
      "metadata": {
        "id": "XvhY89MEEaVf"
      },
      "execution_count": null,
      "outputs": []
    },
    {
      "cell_type": "markdown",
      "source": [
        "**Model with a pre-trained embedding layer.**"
      ],
      "metadata": {
        "id": "a1WNTUOnnx_e"
      }
    },
    {
      "cell_type": "code",
      "source": [
        "inputs = keras.Input(shape=(None,), dtype=\"int64\")\n",
        "embedded = embedding_layer(inputs)\n",
        "x = layers.Bidirectional(layers.LSTM(32))(embedded)\n",
        "x = layers.Dropout(0.5)(x)\n",
        "outputs = layers.Dense(1, activation=\"sigmoid\")(x)\n",
        "model = keras.Model(inputs, outputs)\n",
        "model.compile(optimizer=\"rmsprop\",\n",
        "              loss=\"binary_crossentropy\",\n",
        "              metrics=[\"accuracy\"])\n",
        "model.summary()\n",
        "\n",
        "callbacks = [\n",
        "    keras.callbacks.ModelCheckpoint(\"glove_embeddings_sequence_model.x\",\n",
        "                                    save_best_only=True)\n",
        "]\n",
        "model.fit(int_train_ds, validation_data=int_val_ds, epochs=10, callbacks=callbacks)\n",
        "model = keras.models.load_model(\"glove_embeddings_sequence_model.x\")\n",
        "print(f\"Test acc: {model.evaluate(int_test_ds)[1]:.3f}\")"
      ],
      "metadata": {
        "id": "lom9Mui-EaZ-",
        "colab": {
          "base_uri": "https://localhost:8080/"
        },
        "outputId": "718b95f2-64c6-41d7-e968-c30b5d06fc58"
      },
      "execution_count": null,
      "outputs": [
        {
          "output_type": "stream",
          "name": "stdout",
          "text": [
            "Model: \"model_3\"\n",
            "_________________________________________________________________\n",
            " Layer (type)                Output Shape              Param #   \n",
            "=================================================================\n",
            " input_4 (InputLayer)        [(None, None)]            0         \n",
            "                                                                 \n",
            " embedding_3 (Embedding)     (None, None, 100)         2000000   \n",
            "                                                                 \n",
            " bidirectional_3 (Bidirecti  (None, 64)                34048     \n",
            " onal)                                                           \n",
            "                                                                 \n",
            " dropout_3 (Dropout)         (None, 64)                0         \n",
            "                                                                 \n",
            " dense_3 (Dense)             (None, 1)                 65        \n",
            "                                                                 \n",
            "=================================================================\n",
            "Total params: 2034113 (7.76 MB)\n",
            "Trainable params: 34113 (133.25 KB)\n",
            "Non-trainable params: 2000000 (7.63 MB)\n",
            "_________________________________________________________________\n",
            "Epoch 1/10\n",
            "150/150 [==============================] - 41s 213ms/step - loss: 0.6836 - accuracy: 0.5596 - val_loss: 0.6348 - val_accuracy: 0.6426\n",
            "Epoch 2/10\n",
            "150/150 [==============================] - 30s 203ms/step - loss: 0.6033 - accuracy: 0.6835 - val_loss: 0.6345 - val_accuracy: 0.6512\n",
            "Epoch 3/10\n",
            "150/150 [==============================] - 31s 209ms/step - loss: 0.5596 - accuracy: 0.7181 - val_loss: 0.5511 - val_accuracy: 0.7086\n",
            "Epoch 4/10\n",
            "150/150 [==============================] - 30s 203ms/step - loss: 0.5221 - accuracy: 0.7498 - val_loss: 0.5400 - val_accuracy: 0.7162\n",
            "Epoch 5/10\n",
            "150/150 [==============================] - 5s 31ms/step - loss: 0.4990 - accuracy: 0.7704 - val_loss: 0.6032 - val_accuracy: 0.7007\n",
            "Epoch 6/10\n",
            "150/150 [==============================] - 5s 31ms/step - loss: 0.4803 - accuracy: 0.7779 - val_loss: 0.5805 - val_accuracy: 0.7054\n",
            "Epoch 7/10\n",
            "150/150 [==============================] - 30s 203ms/step - loss: 0.4513 - accuracy: 0.7896 - val_loss: 0.4586 - val_accuracy: 0.7864\n",
            "Epoch 8/10\n",
            "150/150 [==============================] - 30s 204ms/step - loss: 0.4347 - accuracy: 0.8029 - val_loss: 0.4481 - val_accuracy: 0.7948\n",
            "Epoch 9/10\n",
            "150/150 [==============================] - 5s 31ms/step - loss: 0.4217 - accuracy: 0.8077 - val_loss: 0.4491 - val_accuracy: 0.7903\n",
            "Epoch 10/10\n",
            "150/150 [==============================] - 5s 32ms/step - loss: 0.4085 - accuracy: 0.8192 - val_loss: 0.4739 - val_accuracy: 0.7796\n",
            "782/782 [==============================] - 8s 8ms/step - loss: 0.4556 - accuracy: 0.7874\n",
            "Test acc: 0.787\n"
          ]
        }
      ]
    }
  ]
}